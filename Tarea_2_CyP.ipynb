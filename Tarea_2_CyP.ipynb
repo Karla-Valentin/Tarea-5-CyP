{
  "nbformat": 4,
  "nbformat_minor": 0,
  "metadata": {
    "colab": {
      "name": "Tarea 2 CyP.ipynb",
      "provenance": [],
      "authorship_tag": "ABX9TyPIkKymr8W24UvGSGlxcbiP",
      "include_colab_link": true
    },
    "kernelspec": {
      "name": "python3",
      "display_name": "Python 3"
    },
    "language_info": {
      "name": "python"
    }
  },
  "cells": [
    {
      "cell_type": "markdown",
      "metadata": {
        "id": "view-in-github",
        "colab_type": "text"
      },
      "source": [
        "<a href=\"https://colab.research.google.com/github/Karla-Valentin/Tarea-5-CyP/blob/main/Tarea_2_CyP.ipynb\" target=\"_parent\"><img src=\"https://colab.research.google.com/assets/colab-badge.svg\" alt=\"Open In Colab\"/></a>"
      ]
    },
    {
      "cell_type": "code",
      "metadata": {
        "colab": {
          "base_uri": "https://localhost:8080/"
        },
        "id": "TcIWlFk-WpyK",
        "outputId": "b61e5a0a-2209-456f-b835-e2d5e9947502"
      },
      "source": [
        "#Ejercicio 1. Hacer un programa que pida dos numeros enteros y que imprima en pantalla lo siguiente: \n",
        "\n",
        "\"\"\"1.Cual de ellos es el numero mayor.\n",
        "2. cual de ellos es el numero menor o en su defecto imprimir que los valores \n",
        "son iguales\"\"\" \n",
        "\n",
        "NUM1 = int(input(\"Ingresa un numero entero:\") )\n",
        "NUM2 = int(input(\"Ingresa otro numero entero\"))\n",
        "if NUM1==NUM2:\n",
        "    print(\"Los dos numeros son iguales\")\n",
        "elif NUM1 >= NUM2:\n",
        "    print(f\"Este es el numero mayor:{NUM1}\")  \n",
        "    print(f\"Este es el numero menor:{NUM2}\") \n",
        "else:\n",
        "    print(f\"Este es el numero mayor: {NUM2}\")\n",
        "    print(f\"Este es el numero menor: {NUM1}\") \n",
        "\n",
        "\n",
        "\n"
      ],
      "execution_count": 9,
      "outputs": [
        {
          "output_type": "stream",
          "name": "stdout",
          "text": [
            "Ingresa un numero entero:3\n",
            "Ingresa otro numero entero6\n",
            "Este es el numero mayor: 6\n",
            "Este es el numero menor: 3\n"
          ]
        }
      ]
    },
    {
      "cell_type": "code",
      "metadata": {
        "colab": {
          "base_uri": "https://localhost:8080/"
        },
        "id": "xG1hE974eaRA",
        "outputId": "2b55de89-caf1-4a46-a88c-434fe2736faa"
      },
      "source": [
        "#Ejercicio 2\n",
        "\"\"\"Hacer un programa que solicite 3 numeros enteros diferentes entre si y \n",
        "que imprima cual de los tres es el mayor\"\"\" \n",
        "\n",
        "NUM1 = int(input(\"Ingresa un numero entero:\") )\n",
        "NUM2 = int(input(\"Ingresa un numero entero diferente al anterior:\"))\n",
        "NUM3 = int(input(\"Ingresa otro numero entero diferente a los dos anteriores:\"))\n",
        "if NUM1 >= NUM2 and NUM1 >= NUM3:\n",
        "    print(f\"El numero mayor es: {NUM1} \")\n",
        "elif NUM2 >= NUM1 and NUM2 >= NUM3:\n",
        "    print(f\"El numero mayor es: {NUM2} \")\n",
        "else:\n",
        "    print(f\"El numero mayor es: {NUM3} \")    \n",
        "\n",
        "\n",
        "\n"
      ],
      "execution_count": 12,
      "outputs": [
        {
          "output_type": "stream",
          "name": "stdout",
          "text": [
            "Ingresa un numero entero:18\n",
            "Ingresa un numero entero diferente al anterior:48\n",
            "Ingresa otro numero entero diferente a los dos anteriores:10\n",
            "El numero mayor es: 48 \n"
          ]
        }
      ]
    },
    {
      "cell_type": "code",
      "metadata": {
        "colab": {
          "base_uri": "https://localhost:8080/"
        },
        "id": "7ViWY3Lle5Iu",
        "outputId": "e9a38fb4-9d2e-401b-e2be-cf65bde71605"
      },
      "source": [
        "#Ejercicio 3\n",
        "\"\"\"Hacer un programa que solicite 3 numeros enteros diferentes entre si y que \n",
        "imprima cual de los tres es el menor\"\"\" \n",
        "\n",
        "NUM1 = int(input(\"Ingresa un numero entero:\") )\n",
        "NUM2 = int(input(\"Ingresa un numero entero diferente al anterior:\"))\n",
        "NUM3 = int(input(\"Ingresa otro numero entero diferente a los dos anteriores:\"))\n",
        "if NUM1 <= NUM2 and NUM1 <= NUM3:\n",
        "    print(f\"El numero menor es: {NUM1} \")\n",
        "elif NUM2 <= NUM1 and NUM2 <= NUM3:\n",
        "    print(f\"El numero menor es: {NUM2} \")\n",
        "else:\n",
        "    print(f\"El numero menor es: {NUM3} \")    \n",
        "\n",
        "\n",
        "\n",
        "\n"
      ],
      "execution_count": 14,
      "outputs": [
        {
          "output_type": "stream",
          "name": "stdout",
          "text": [
            "Ingresa un numero entero:0\n",
            "Ingresa un numero entero diferente al anterior:1\n",
            "Ingresa otro numero entero diferente a los dos anteriores:-3\n",
            "El numero menor es: -3 \n"
          ]
        }
      ]
    },
    {
      "cell_type": "code",
      "metadata": {
        "colab": {
          "base_uri": "https://localhost:8080/"
        },
        "id": "KI5W5E_Ym9Vc",
        "outputId": "4c336428-843e-45e8-8dc3-f23de8d315bf"
      },
      "source": [
        "#Ejercicio 4 \n",
        "\"\"\"Hacer un programa que solicite 4 numeros enteros diferentes entre si e \n",
        "imprima a la salida cual de ellos es el menor y cual de ellos es el mayor\"\"\"\n",
        "\n",
        "NUM1 = int(input(\"Ingresa un numero entero:\") )\n",
        "NUM2 = int(input(\"Ingresa otro numero entero distinto:\"))\n",
        "NUM3 = int(input(\"Ingresa un numero entero distinto a los dos anteriores:\") )\n",
        "NUM4 = int(input(\"Ingresa un numero entero distinto a todos los anteriores:\"))\n",
        "\n",
        "if NUM1 >= NUM2 and NUM1 >= NUM3 and NUM1 >= NUM4:\n",
        "    mayor=NUM1\n",
        "elif NUM2 >= NUM1 and NUM2 >= NUM3 and NUM2 >= NUM4:\n",
        "    mayor=NUM2\n",
        "elif NUM3 >= NUM1 and NUM3 >= NUM2 and NUM3 >= NUM4:\n",
        "    mayor=NUM3\n",
        "else: \n",
        "    mayor=NUM4\n",
        "\n",
        "if NUM1 <= NUM2 and NUM1 <= NUM3 and NUM1 <= NUM4:\n",
        "    menor=NUM1\n",
        "elif NUM2 <= NUM1 and NUM2 <= NUM3 and NUM2 <= NUM4:\n",
        "    menor=NUM2\n",
        "elif NUM3 <= NUM1 and NUM3 <= NUM2 and NUM3 <= NUM4:\n",
        "    menor=NUM3\n",
        "else: \n",
        "    menor=NUM4\n",
        "\n",
        "print(f\"El numero mayor es: {mayor} \")  \n",
        "print(f\"El numero menor es:{menor} \")  \n",
        "        \n",
        "\n",
        "\n"
      ],
      "execution_count": 18,
      "outputs": [
        {
          "output_type": "stream",
          "name": "stdout",
          "text": [
            "Ingresa un numero entero:12\n",
            "Ingresa otro numero entero distinto:97\n",
            "Ingresa un numero entero distinto a los dos anteriores:555\n",
            "Ingresa un numero entero distinto a todos los anteriores:165\n",
            "El numero mayor es: 555 \n",
            "El numero menor es:12 \n"
          ]
        }
      ]
    }
  ]
}